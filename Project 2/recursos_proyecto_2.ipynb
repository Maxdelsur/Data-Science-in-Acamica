{
 "cells": [
  {
   "cell_type": "markdown",
   "metadata": {},
   "source": [
    "# Proyecto: Engrasandonos las manos con datos"
   ]
  },
  {
   "cell_type": "markdown",
   "metadata": {},
   "source": [
    "¡Bienvenidos al segundo proyecto de la carrera de Data Science de Acamica! \n",
    "\n",
    "En este proyecto vamos a seguir trabajando con el dataset de propiedades en venta publicadas en el portal [Properati](www.properati.com.ar). El objetivo en este caso es continuar con la limpieza de datos y avanzar en remover valores faltantes y remover outliers. Por otro lado, vamos a agregar nuevos atributos basados en los datos."
   ]
  },
  {
   "cell_type": "markdown",
   "metadata": {},
   "source": [
    "## Dataset: Propiedades en venta en Ciudad de Buenos Aires."
   ]
  },
  {
   "cell_type": "markdown",
   "metadata": {},
   "source": [
    "En este proyecto, trabajaremos con una muestra del conjunto de datos de propiedades en venta mencionado. En este dataset, cada fila es una propiedad en venta. A continuación vamos a describir los atributos que consideramos en esta muestra:\n",
    "\n",
    "* id: id de la propiedad\n",
    "* created_on: fecha en la que la propiedad ingresó al sitio\n",
    "* operation: alquiler (rent) o venta (sell)\n",
    "* property_type: tipo de propiedad (casa, departamento, ph, etcétera)\n",
    "* place_with_parent_names: nombre del lugar donde se encuentra la propiedad según el publicador\n",
    "* lat-lon: coordenadas concatenadas\n",
    "* lat: latitud\n",
    "* lon: longitud\n",
    "* price: precio en la moneda especificada en currency\n",
    "* currency: divisa en la que está expresada la publicación\n",
    "* price_aprox_usd: precio aproximado en dólares estadounidenses\n",
    "* surface_total_in_m2: superficie total (en metros cuadrados)\n",
    "* surface_covered_in_m2: superficie cubierta (en metros cuadrados)\n",
    "* price_usd_per_m2: precio por metro cuadrado en dólares (precio dólares / superficie)\n",
    "* floor: número de piso (si corresponde)\n",
    "* rooms: cantidad de ambientes\n",
    "* expenses: expensas (si corresponde)\n",
    "* barrio: barrio según cartografía oficial\n",
    "* properati_url: url de la publicación en Properati\n",
    "\n",
    "A continuación vamos a levantar el dataset para comenzar el procesamiento. Cabe destacar que en este caso ya fueron hechas las correcciones de coordenadas y superficies incorrectas que vimos en el proyecto anterior"
   ]
  },
  {
   "cell_type": "code",
   "execution_count": 20,
   "metadata": {},
   "outputs": [],
   "source": [
    "import matplotlib.pyplot as plt\n",
    "%matplotlib inline\n",
    "import seaborn as sns\n",
    "import pandas as pd\n",
    "import warnings\n",
    "warnings.filterwarnings('ignore')\n",
    "\n",
    "MAX_ROWS = 15\n",
    "pd.set_option('display.max_rows', MAX_ROWS)\n",
    "pd.set_option('display.max_columns', 200)\n",
    " \n",
    "sns.set_style(\"whitegrid\")\n",
    "sns.set_context(\"paper\")\n",
    "\n",
    "plt.rcParams['figure.figsize'] = (12,5)"
   ]
  },
  {
   "cell_type": "code",
   "execution_count": 21,
   "metadata": {},
   "outputs": [],
   "source": [
    "path_dataset = 'C:/Users/Maxi/Documents/Acámica/Proyecto 2\\entrega+2/dataset/datos_properati_limpios.csv'\n",
    "df = pd.read_csv(path_dataset, parse_dates=['created_on'])"
   ]
  },
  {
   "cell_type": "code",
   "execution_count": 22,
   "metadata": {},
   "outputs": [
    {
     "data": {
      "text/plain": [
       "Index(['created_on', 'property_type', 'place_name', 'place_with_parent_names',\n",
       "       'lat', 'lon', 'price_aprox_usd', 'surface_total_in_m2',\n",
       "       'surface_covered_in_m2', 'price_usd_per_m2', 'floor', 'rooms',\n",
       "       'expenses', 'properati_url', 'barrio'],\n",
       "      dtype='object')"
      ]
     },
     "execution_count": 22,
     "metadata": {},
     "output_type": "execute_result"
    }
   ],
   "source": [
    "df.columns"
   ]
  },
  {
   "cell_type": "code",
   "execution_count": 23,
   "metadata": {},
   "outputs": [
    {
     "name": "stdout",
     "output_type": "stream",
     "text": [
      "El dataset que vamos a trabajar aquí tiene 13756 observaciones\n"
     ]
    }
   ],
   "source": [
    "print(\"El dataset que vamos a trabajar aquí tiene {} observaciones\".format(df.shape[0]))"
   ]
  },
  {
   "cell_type": "markdown",
   "metadata": {},
   "source": [
    "Dado que ya lo trabajamos en el proyecto anterior, en este caso ya hemos filtrado observaciones para trabajar solo con casas (house), departamentos (apartment) y PH (PH)."
   ]
  },
  {
   "cell_type": "markdown",
   "metadata": {},
   "source": [
    "### Outliers"
   ]
  },
  {
   "cell_type": "markdown",
   "metadata": {},
   "source": [
    "Analicemos en primer lugar los valores extremos que puede haber en los precios y en las superficies. Esto nos va a ser útil para luego imputar usando medidas de tendencia central, como el promedio. \n",
    "Recordemos que las medidas de tendencia central pueden ser sensibles a outliers, por lo que la imputación de valores faltantes puede verse afectada\n",
    "\n",
    "Una posible pregunta que surge es si conviene primero imputar faltantes y luego remover outliers, o lo contrario.  Cuando se imputa se modifica la distribución de los datos. Por eso, las cotas que utilicemos para definir los outliers se verán afectadas por este cambio y modificarán los resultados finales. Entonces comenzaremos quitando outliers.\n",
    "\n",
    "Vamos a trabajar con `price_usd_per_m2`. Precios altos pueden corresponderse con grandes superficies, por lo que conviene analizar juntos ambos atributos. Veamos la distribución de los valores y un boxplot para comenzar a identificar los outliers."
   ]
  },
  {
   "cell_type": "markdown",
   "metadata": {},
   "source": [
    "**1) Utilizá** seaborn para hacer un `distplot` del precio por metro cuadrado. \n",
    "\n",
    "Deberás hacer un `drop` de los valores `NaN` de esta columna antes de graficar."
   ]
  },
  {
   "cell_type": "code",
   "execution_count": 24,
   "metadata": {},
   "outputs": [
    {
     "name": "stdout",
     "output_type": "stream",
     "text": [
      "Columnas con valores faltantes : Index(['surface_total_in_m2', 'surface_covered_in_m2', 'price_usd_per_m2',\n",
      "       'floor', 'rooms', 'expenses'],\n",
      "      dtype='object')\n",
      "Columnas con valores faltantes : Index(['surface_covered_in_m2', 'floor', 'rooms', 'expenses'], dtype='object')\n"
     ]
    },
    {
     "data": {
      "text/plain": [
       "<matplotlib.axes._subplots.AxesSubplot at 0x17285b38f48>"
      ]
     },
     "execution_count": 24,
     "metadata": {},
     "output_type": "execute_result"
    },
    {
     "data": {
      "image/png": "[encoded data removed]",
      "text/plain": [
       "<Figure size 864x360 with 1 Axes>"
      ]
     },
     "metadata": {},
     "output_type": "display_data"
    }
   ],
   "source": [
    "# Mostrá la figura en esta celda\n",
    "\n",
    "# 1) veamos que columnas tienen datos faltantes\n",
    "df.head()\n",
    "columnas = df.columns[df.isnull().any()]\n",
    "print(\"Columnas con valores faltantes : %s\" % (columnas))\n",
    "\n",
    "# 2) sacamos los NaN de la columna price_usd_per_m2\n",
    "df= df.dropna(subset =['price_usd_per_m2'])\n",
    "\n",
    "columnas = df.columns[df.isnull().any()]\n",
    "print(\"Columnas con valores faltantes : %s\" % (columnas))\n",
    "\n",
    "# 3) hacemos un displot con seaborn\n",
    "sns.distplot(df.price_usd_per_m2)\n",
    "\n",
    "# vemos una distribución con asimetría derecha, producto de varios outliers por precios muy superiores"
   ]
  },
  {
   "cell_type": "markdown",
   "metadata": {},
   "source": [
    "**2) Hacé** un `boxplot` de la columna `price_usd_per_m2`"
   ]
  },
  {
   "cell_type": "code",
   "execution_count": 25,
   "metadata": {},
   "outputs": [
    {
     "data": {
      "image/png": "[encoded data removed]",
      "text/plain": [
       "<Figure size 864x360 with 1 Axes>"
      ]
     },
     "metadata": {},
     "output_type": "display_data"
    }
   ],
   "source": [
    "# El boxplot debe estar en esta celda\n",
    "sns.set(style=\"whitegrid\")\n",
    "ax = sns.boxplot(x=df[\"price_usd_per_m2\"])\n"
   ]
  },
  {
   "cell_type": "code",
   "execution_count": 26,
   "metadata": {},
   "outputs": [
    {
     "data": {
      "image/png": "[encoded data removed]",
      "text/plain": [
       "<Figure size 864x360 with 1 Axes>"
      ]
     },
     "metadata": {},
     "output_type": "display_data"
    }
   ],
   "source": [
    "histograma = sns.distplot(df[\"price_usd_per_m2\"])"
   ]
  },
  {
   "cell_type": "markdown",
   "metadata": {},
   "source": [
    "¿A qué conclusión podemos llegar observando estas figuras?\n",
    "**Tenemos observaciones que se comportan como outliers, lo que confirmamos con el boxplot, ya que se observan valores atípicos en ambos lados de la distribución**"
   ]
  },
  {
   "cell_type": "markdown",
   "metadata": {},
   "source": [
    "Para confirmar la presencia de outliers vamos a utilizar los percentiles.\n",
    "\n",
    "**3) Describir** la columna mostrando sus estadísticos"
   ]
  },
  {
   "cell_type": "code",
   "execution_count": 27,
   "metadata": {},
   "outputs": [
    {
     "name": "stdout",
     "output_type": "stream",
     "text": [
      "count     12973.000000\n",
      "mean       2695.065767\n",
      "std        1773.086831\n",
      "min           0.958333\n",
      "25%        1959.183673\n",
      "50%        2510.204082\n",
      "75%        3125.000000\n",
      "max      142450.141026\n",
      "Name: price_usd_per_m2, dtype: float64\n",
      "el rango intercuartilico es  1165.8163265306118\n"
     ]
    }
   ],
   "source": [
    "# Describir la columna en esta celda\n",
    "print(df['price_usd_per_m2'].describe())\n",
    "\n",
    "# vemos los quartiles 1  y 3 en describe. \n",
    "# sacamos el rango intercuartilico\n",
    "iqr = df['price_usd_per_m2'].describe()[6] - df['price_usd_per_m2'].describe()[4]\n",
    "\n",
    "print(\"el rango intercuartilico es \", str(iqr))\n",
    "\n"
   ]
  },
  {
   "cell_type": "markdown",
   "metadata": {},
   "source": [
    "Estamos ante la presencia de valores extremos en ambas puntas de la distribución. Vamos a aplicar la técnica del rango intercuartílico para limpiarlos.\n",
    "\n",
    "Para obtener el rango tenemos que calcular la diferencia entre el tercer y el primer percentil. Luego en base a esto calcularemos los valores mínimos y máximos para definir qué observaciones serán descartadas.\n",
    "\n",
    "**4) Aplicar la técnica del rango intercuartílico** para limpiar el precio por metro cuadrado. El resultado deberá ser un `dataframe` llamado `df_filtered` sin los outliers."
   ]
  },
  {
   "cell_type": "code",
   "execution_count": 8,
   "metadata": {},
   "outputs": [
    {
     "name": "stdout",
     "output_type": "stream",
     "text": [
      "el límite inferior es  210.45918367347053\n",
      "el límite superior es  4873.724489795917\n"
     ]
    }
   ],
   "source": [
    "# Realizar el filtrado intercuartílico en esta celda\n",
    "max_ = df['price_usd_per_m2'].describe()[6] + (iqr*1.5)\n",
    "min_ = df['price_usd_per_m2'].describe()[4] - (iqr*1.5)\n",
    "\n",
    "print(\"el límite inferior es \", min_)\n",
    "print(\"el límite superior es \", max_)\n",
    "\n",
    "# Filtramos el data frame con el max y min calculado\n",
    "df_filtered = df[(df['price_usd_per_m2'] >= min_) & (df['price_usd_per_m2']  <= max_)]\n",
    "\n",
    "#print(df_filtered['price_usd_per_m2'].describe())"
   ]
  },
  {
   "cell_type": "markdown",
   "metadata": {},
   "source": [
    "**5)** Volver a **plotear** con `distplot` y `boxplot` los precios sin los outliers y observá las diferencias con los anteriores ploteo."
   ]
  },
  {
   "cell_type": "code",
   "execution_count": 28,
   "metadata": {},
   "outputs": [
    {
     "data": {
      "text/plain": [
       "<matplotlib.axes._subplots.AxesSubplot at 0x17286280a88>"
      ]
     },
     "execution_count": 28,
     "metadata": {},
     "output_type": "execute_result"
    },
    {
     "data": {
      "image/png": "[encoded data removed]",
      "text/plain": [
       "<Figure size 864x360 with 1 Axes>"
      ]
     },
     "metadata": {},
     "output_type": "display_data"
    }
   ],
   "source": [
    "# Hacé el distplot \n",
    "sns.distplot(df_filtered.price_usd_per_m2)"
   ]
  },
  {
   "cell_type": "code",
   "execution_count": 29,
   "metadata": {},
   "outputs": [
    {
     "data": {
      "image/png": "[encoded data removed]",
      "text/plain": [
       "<Figure size 864x360 with 1 Axes>"
      ]
     },
     "metadata": {},
     "output_type": "display_data"
    }
   ],
   "source": [
    "# Hacé el boxplot en esta celda\n",
    "ax = sns.boxplot(x=df_filtered[\"price_usd_per_m2\"])"
   ]
  },
  {
   "cell_type": "markdown",
   "metadata": {},
   "source": [
    "**6) Describir** nuevamente la columna mostrando sus estadísticos."
   ]
  },
  {
   "cell_type": "code",
   "execution_count": 30,
   "metadata": {},
   "outputs": [
    {
     "data": {
      "text/plain": [
       "count    12288.000000\n",
       "mean      2505.089766\n",
       "std        834.949633\n",
       "min        213.068182\n",
       "25%       1933.333333\n",
       "50%       2466.666667\n",
       "75%       3027.864583\n",
       "max       4871.794872\n",
       "Name: price_usd_per_m2, dtype: float64"
      ]
     },
     "execution_count": 30,
     "metadata": {},
     "output_type": "execute_result"
    }
   ],
   "source": [
    "df_filtered['price_usd_per_m2'].describe()"
   ]
  },
  {
   "cell_type": "markdown",
   "metadata": {},
   "source": [
    "Vamos a seguir trabajando con el `dataframe` filtrado"
   ]
  },
  {
   "cell_type": "code",
   "execution_count": 31,
   "metadata": {},
   "outputs": [],
   "source": [
    "df = df_filtered"
   ]
  },
  {
   "cell_type": "markdown",
   "metadata": {},
   "source": [
    "### Valores Faltantes"
   ]
  },
  {
   "cell_type": "markdown",
   "metadata": {},
   "source": [
    "A diferencia del proyecto pasado, vamos a intentar imputar los valores faltantes para los atributos que consideramos importantes para el mercado inmobiliario. \n",
    "\n",
    "Estos atributos son los que informan **superficie (total o cubierta), cantidad de ambientes, precio y precio por metro cuadrado**. \n",
    "\n",
    "Veamos en primer lugar cuántos valores faltantes tiene cada atributo. Nos interesa verlo como un porcentaje en relación a la cantidad de observaciones. Si un atributo tiene un elevado porcentaje de faltantes, puede ser mejor no considerarlo en el análisis."
   ]
  },
  {
   "cell_type": "markdown",
   "metadata": {},
   "source": [
    "**7) Mostrar** cual es el porcentaje de valores faltantes para cada columna."
   ]
  },
  {
   "cell_type": "code",
   "execution_count": 32,
   "metadata": {},
   "outputs": [
    {
     "name": "stdout",
     "output_type": "stream",
     "text": [
      "surface_covered_in_m2      474\n",
      "floor                    10455\n",
      "rooms                     2160\n",
      "expenses                  9090\n",
      "dtype: int64\n",
      "surface_covered_in_m2    0.038574\n",
      "floor                    0.850830\n",
      "rooms                    0.175781\n",
      "expenses                 0.739746\n",
      "dtype: float64\n"
     ]
    },
    {
     "data": {
      "text/plain": [
       "Index(['created_on', 'property_type', 'place_name', 'place_with_parent_names',\n",
       "       'lat', 'lon', 'price_aprox_usd', 'surface_total_in_m2',\n",
       "       'surface_covered_in_m2', 'price_usd_per_m2', 'floor', 'rooms',\n",
       "       'expenses', 'properati_url', 'barrio'],\n",
       "      dtype='object')"
      ]
     },
     "execution_count": 32,
     "metadata": {},
     "output_type": "execute_result"
    }
   ],
   "source": [
    "# Mostrá los valores faltantes en esta celda\n",
    "\n",
    "# vemos la cantidad de NaN por columna\n",
    "null_columns=df.columns[df.isnull().any()]\n",
    "print(df[null_columns].isnull().sum())\n",
    "\n",
    "# vemos el % de NaN para cada columna con NaN\n",
    "ver = df.isnull().sum()/len(df)\n",
    "print(ver[ver>0])\n",
    "df.columns"
   ]
  },
  {
   "cell_type": "markdown",
   "metadata": {},
   "source": [
    "Podemos ver en los resultados que los atributos `floor` y `expenses` tienen un elevado porcentaje de faltantes.  Una opción sería descartar estas columnas en el análisis. \n",
    "Si elimináramos las observaciones (filas) asociadas a estos, perderíamos el 84.79% de los datos, mermando demasiado el conjunto de datos.\n",
    "\n",
    "Otra opción sería por ejemplo considerar categorías como faltantes o no faltantes o en todo caso analizar si hay algún patrón para poder evitar quitarlos. \n",
    "\n",
    "Para avanzar con el proyecto, vamos a quitar esos atributos."
   ]
  },
  {
   "cell_type": "code",
   "execution_count": 33,
   "metadata": {},
   "outputs": [],
   "source": [
    "df = df.drop(['floor', 'expenses'], axis = 1)"
   ]
  },
  {
   "cell_type": "markdown",
   "metadata": {},
   "source": [
    "Analicemos estrategias para imputar los valores faltantes para los atributos `rooms`, `surface_total_in_m2` y `surface_covered_in_m2`.\n",
    "\n",
    "Como vimos en las actividades, entre las opciones que tenemos está la posibilidad de imputar por algún medida de tendencia central, como el caso de la media o la mediana. Vamos a avanzar en esa dirección."
   ]
  },
  {
   "cell_type": "markdown",
   "metadata": {},
   "source": [
    "**8) Imputar las observaciones faltantes** de la columna `surface_total_in_m2 ` y `surface_covered_in_m2` usando la **media**. \n",
    "\n",
    "`Scikit-learn` nos provee la clase `Imputer` que implementa las formas más comunes de imputación."
   ]
  },
  {
   "cell_type": "code",
   "execution_count": 34,
   "metadata": {},
   "outputs": [],
   "source": [
    "# Imputar los valores en esta celda \n",
    "\n",
    "from sklearn.preprocessing import Imputer\n",
    "imp = Imputer(missing_values='NaN',strategy='mean')\n",
    "imp.fit(df['surface_total_in_m2'].values.reshape(-1, 1))\n",
    "df['surface_total_in_m2'] = imp.transform(df['surface_total_in_m2'].values.reshape(-1, 1))\n",
    "\n",
    "imp = Imputer(missing_values='NaN',strategy='mean')\n",
    "imp.fit(df['surface_covered_in_m2'].values.reshape(-1, 1))\n",
    "df['surface_covered_in_m2'] = imp.transform(df['surface_covered_in_m2'].values.reshape(-1, 1))\n",
    "\n",
    "# otra opción más sencilla era:\n",
    "#df['surface_covered_in_m2']= df['surface_covered_in_m2'].fillna(df['surface_covered_in_m2'].mean()"
   ]
  },
  {
   "cell_type": "markdown",
   "metadata": {},
   "source": [
    "Una de las limitaciones que presenta este tipo de imputación es que provoca estimaciones sesgadas de la varianza. Esto impacta en los errores estandar y, por ende, en los tests estadístcos.\n",
    "\n",
    "Este tipo de técnicas es útil cuando los valores son completamente al azar."
   ]
  },
  {
   "cell_type": "markdown",
   "metadata": {},
   "source": [
    "**9) Imputar las observaciones faltantes** de la columna `rooms` usando la **mediana**."
   ]
  },
  {
   "cell_type": "code",
   "execution_count": 35,
   "metadata": {},
   "outputs": [
    {
     "name": "stdout",
     "output_type": "stream",
     "text": [
      "Series([], dtype: float64)\n"
     ]
    },
    {
     "data": {
      "text/html": [
       "<div>\n",
       "<style scoped>\n",
       "    .dataframe tbody tr th:only-of-type {\n",
       "        vertical-align: middle;\n",
       "    }\n",
       "\n",
       "    .dataframe tbody tr th {\n",
       "        vertical-align: top;\n",
       "    }\n",
       "\n",
       "    .dataframe thead th {\n",
       "        text-align: right;\n",
       "    }\n",
       "</style>\n",
       "<table border=\"1\" class=\"dataframe\">\n",
       "  <thead>\n",
       "    <tr style=\"text-align: right;\">\n",
       "      <th></th>\n",
       "      <th>created_on</th>\n",
       "      <th>property_type</th>\n",
       "      <th>place_name</th>\n",
       "      <th>place_with_parent_names</th>\n",
       "      <th>lat</th>\n",
       "      <th>lon</th>\n",
       "      <th>price_aprox_usd</th>\n",
       "      <th>surface_total_in_m2</th>\n",
       "      <th>surface_covered_in_m2</th>\n",
       "      <th>price_usd_per_m2</th>\n",
       "      <th>rooms</th>\n",
       "      <th>properati_url</th>\n",
       "      <th>barrio</th>\n",
       "    </tr>\n",
       "  </thead>\n",
       "  <tbody>\n",
       "    <tr>\n",
       "      <td>1</td>\n",
       "      <td>2017-08-29</td>\n",
       "      <td>apartment</td>\n",
       "      <td>Palermo</td>\n",
       "      <td>|Argentina|Capital Federal|Palermo|</td>\n",
       "      <td>-34.588912</td>\n",
       "      <td>-58.413494</td>\n",
       "      <td>340000.0</td>\n",
       "      <td>130.0</td>\n",
       "      <td>120.0</td>\n",
       "      <td>2615.384615</td>\n",
       "      <td>4.0</td>\n",
       "      <td>https://www.properati.com.ar/1dzv6_venta_depar...</td>\n",
       "      <td>PALERMO</td>\n",
       "    </tr>\n",
       "    <tr>\n",
       "      <td>2</td>\n",
       "      <td>2017-08-29</td>\n",
       "      <td>apartment</td>\n",
       "      <td>Palermo</td>\n",
       "      <td>|Argentina|Capital Federal|Palermo|</td>\n",
       "      <td>-34.577033</td>\n",
       "      <td>-58.423368</td>\n",
       "      <td>222000.0</td>\n",
       "      <td>52.0</td>\n",
       "      <td>48.0</td>\n",
       "      <td>4269.230769</td>\n",
       "      <td>1.0</td>\n",
       "      <td>https://www.properati.com.ar/1e05k_venta_depar...</td>\n",
       "      <td>PALERMO</td>\n",
       "    </tr>\n",
       "    <tr>\n",
       "      <td>3</td>\n",
       "      <td>2017-08-29</td>\n",
       "      <td>apartment</td>\n",
       "      <td>Palermo</td>\n",
       "      <td>|Argentina|Capital Federal|Palermo|</td>\n",
       "      <td>-34.595014</td>\n",
       "      <td>-58.427392</td>\n",
       "      <td>180000.0</td>\n",
       "      <td>70.0</td>\n",
       "      <td>70.0</td>\n",
       "      <td>2571.428571</td>\n",
       "      <td>3.0</td>\n",
       "      <td>https://www.properati.com.ar/1e0mq_venta_depar...</td>\n",
       "      <td>PALERMO</td>\n",
       "    </tr>\n",
       "    <tr>\n",
       "      <td>4</td>\n",
       "      <td>2017-08-30</td>\n",
       "      <td>house</td>\n",
       "      <td>Palermo Hollywood</td>\n",
       "      <td>|Argentina|Capital Federal|Palermo|Palermo Hol...</td>\n",
       "      <td>-34.579354</td>\n",
       "      <td>-58.436449</td>\n",
       "      <td>1200000.0</td>\n",
       "      <td>532.0</td>\n",
       "      <td>334.0</td>\n",
       "      <td>2255.639098</td>\n",
       "      <td>6.0</td>\n",
       "      <td>https://www.properati.com.ar/1e1ve_venta_casa_...</td>\n",
       "      <td>PALERMO</td>\n",
       "    </tr>\n",
       "    <tr>\n",
       "      <td>5</td>\n",
       "      <td>2017-08-30</td>\n",
       "      <td>house</td>\n",
       "      <td>Palermo</td>\n",
       "      <td>|Argentina|Capital Federal|Palermo|</td>\n",
       "      <td>-34.579354</td>\n",
       "      <td>-58.436449</td>\n",
       "      <td>1200000.0</td>\n",
       "      <td>532.0</td>\n",
       "      <td>334.0</td>\n",
       "      <td>2255.639098</td>\n",
       "      <td>6.0</td>\n",
       "      <td>https://www.properati.com.ar/1e1vf_venta_casa_...</td>\n",
       "      <td>PALERMO</td>\n",
       "    </tr>\n",
       "  </tbody>\n",
       "</table>\n",
       "</div>"
      ],
      "text/plain": [
       "  created_on property_type         place_name  \\\n",
       "1 2017-08-29     apartment            Palermo   \n",
       "2 2017-08-29     apartment            Palermo   \n",
       "3 2017-08-29     apartment            Palermo   \n",
       "4 2017-08-30         house  Palermo Hollywood   \n",
       "5 2017-08-30         house            Palermo   \n",
       "\n",
       "                             place_with_parent_names        lat        lon  \\\n",
       "1                |Argentina|Capital Federal|Palermo| -34.588912 -58.413494   \n",
       "2                |Argentina|Capital Federal|Palermo| -34.577033 -58.423368   \n",
       "3                |Argentina|Capital Federal|Palermo| -34.595014 -58.427392   \n",
       "4  |Argentina|Capital Federal|Palermo|Palermo Hol... -34.579354 -58.436449   \n",
       "5                |Argentina|Capital Federal|Palermo| -34.579354 -58.436449   \n",
       "\n",
       "   price_aprox_usd  surface_total_in_m2  surface_covered_in_m2  \\\n",
       "1         340000.0                130.0                  120.0   \n",
       "2         222000.0                 52.0                   48.0   \n",
       "3         180000.0                 70.0                   70.0   \n",
       "4        1200000.0                532.0                  334.0   \n",
       "5        1200000.0                532.0                  334.0   \n",
       "\n",
       "   price_usd_per_m2  rooms                                      properati_url  \\\n",
       "1       2615.384615    4.0  https://www.properati.com.ar/1dzv6_venta_depar...   \n",
       "2       4269.230769    1.0  https://www.properati.com.ar/1e05k_venta_depar...   \n",
       "3       2571.428571    3.0  https://www.properati.com.ar/1e0mq_venta_depar...   \n",
       "4       2255.639098    6.0  https://www.properati.com.ar/1e1ve_venta_casa_...   \n",
       "5       2255.639098    6.0  https://www.properati.com.ar/1e1vf_venta_casa_...   \n",
       "\n",
       "    barrio  \n",
       "1  PALERMO  \n",
       "2  PALERMO  \n",
       "3  PALERMO  \n",
       "4  PALERMO  \n",
       "5  PALERMO  "
      ]
     },
     "execution_count": 35,
     "metadata": {},
     "output_type": "execute_result"
    }
   ],
   "source": [
    "# Imputar con la mediana en esta celda\n",
    "imp = Imputer(missing_values='NaN',strategy='median')\n",
    "imp.fit(df['rooms'].values.reshape(-1, 1))\n",
    "df['rooms'] = imp.transform(df['rooms'].values.reshape(-1, 1))\n",
    "\n",
    "# controlamos que no hayan mas variables nulas\n",
    "null_columns=df.columns[df.isnull().any()]\n",
    "print(df[null_columns].isnull().sum())\n",
    "df.head()"
   ]
  },
  {
   "cell_type": "markdown",
   "metadata": {},
   "source": [
    "### Variables binarias"
   ]
  },
  {
   "cell_type": "markdown",
   "metadata": {},
   "source": [
    "#### Generar variables binarias para el atributo `property_type`.\n",
    "\n",
    "Hay que tener en cuenta en este caso que el atributo es categórico.\n",
    "\n",
    "Para hacerlo usando scikit-learn, por como vienen dados los valores (en formato string), primero conviene convertirlos en numéricos. Para esto usamos `LabelEncoder`.\n",
    "\n",
    "**10) Convertí** las variables de `property_type` utilizando `LabelEncoder`"
   ]
  },
  {
   "cell_type": "code",
   "execution_count": 36,
   "metadata": {},
   "outputs": [
    {
     "data": {
      "text/plain": [
       "LabelEncoder()"
      ]
     },
     "execution_count": 36,
     "metadata": {},
     "output_type": "execute_result"
    }
   ],
   "source": [
    "# Utilizá LabelEncoder en esta celda\n",
    "from sklearn.preprocessing import LabelEncoder\n",
    "\n",
    "le = LabelEncoder()\n",
    "le.fit(df['property_type'])\n",
    "\n"
   ]
  },
  {
   "cell_type": "markdown",
   "metadata": {},
   "source": [
    "**11) Mostrar** las clases del `LabelEncoder`:"
   ]
  },
  {
   "cell_type": "code",
   "execution_count": 37,
   "metadata": {},
   "outputs": [
    {
     "data": {
      "text/plain": [
       "['PH', 'apartment', 'house']"
      ]
     },
     "execution_count": 37,
     "metadata": {},
     "output_type": "execute_result"
    }
   ],
   "source": [
    "# Mostrar la propiedad classes_ del LabelEncoder que creaste\n",
    "list(le.classes_)"
   ]
  },
  {
   "cell_type": "markdown",
   "metadata": {},
   "source": [
    "Luego con `OneHotEncoder` obtenemos las categorías expresadas como **variables binarias**. \n",
    "\n",
    "**12) Aplicar** `OneHotEncoder` sobre las variables categóricas para crear un dataframe `categoricals_df`"
   ]
  },
  {
   "cell_type": "code",
   "execution_count": 41,
   "metadata": {},
   "outputs": [
    {
     "name": "stdout",
     "output_type": "stream",
     "text": [
      "[[1]\n",
      " [1]\n",
      " [1]\n",
      " ...\n",
      " [2]\n",
      " [1]\n",
      " [1]]\n"
     ]
    }
   ],
   "source": [
    "integer_encoded = le.fit_transform(df['property_type'])\n",
    "\n",
    "# Utilizá OneHotEncoder en esta celda \n",
    "from sklearn.preprocessing import OneHotEncoder\n",
    "onehot_encoder = OneHotEncoder(sparse=False,categories='auto') #sparse?\n",
    "integer_encoded = integer_encoded.reshape(len(integer_encoded), 1) # lo llevamosa una versión vertical\n",
    "print(integer_encoded)\n",
    "categoricals_df = onehot_encoder.fit_transform(integer_encoded)\n",
    "categoricals_df = pd.DataFrame(categoricals_df)"
   ]
  },
  {
   "cell_type": "markdown",
   "metadata": {},
   "source": [
    "Unimos el nuevo dataframe `categorical_df` con el `dataframe` original `df`. Para esto, necesitamos que tengan el mismo índice."
   ]
  },
  {
   "cell_type": "code",
   "execution_count": 42,
   "metadata": {},
   "outputs": [
    {
     "data": {
      "text/html": [
       "<div>\n",
       "<style scoped>\n",
       "    .dataframe tbody tr th:only-of-type {\n",
       "        vertical-align: middle;\n",
       "    }\n",
       "\n",
       "    .dataframe tbody tr th {\n",
       "        vertical-align: top;\n",
       "    }\n",
       "\n",
       "    .dataframe thead th {\n",
       "        text-align: right;\n",
       "    }\n",
       "</style>\n",
       "<table border=\"1\" class=\"dataframe\">\n",
       "  <thead>\n",
       "    <tr style=\"text-align: right;\">\n",
       "      <th></th>\n",
       "      <th>created_on</th>\n",
       "      <th>property_type</th>\n",
       "      <th>place_name</th>\n",
       "      <th>place_with_parent_names</th>\n",
       "      <th>lat</th>\n",
       "      <th>lon</th>\n",
       "      <th>price_aprox_usd</th>\n",
       "      <th>surface_total_in_m2</th>\n",
       "      <th>surface_covered_in_m2</th>\n",
       "      <th>price_usd_per_m2</th>\n",
       "      <th>rooms</th>\n",
       "      <th>properati_url</th>\n",
       "      <th>barrio</th>\n",
       "      <th>0</th>\n",
       "      <th>1</th>\n",
       "      <th>2</th>\n",
       "      <th>0</th>\n",
       "      <th>1</th>\n",
       "      <th>2</th>\n",
       "    </tr>\n",
       "  </thead>\n",
       "  <tbody>\n",
       "    <tr>\n",
       "      <td>1</td>\n",
       "      <td>2017-08-29</td>\n",
       "      <td>apartment</td>\n",
       "      <td>Palermo</td>\n",
       "      <td>|Argentina|Capital Federal|Palermo|</td>\n",
       "      <td>-34.588912</td>\n",
       "      <td>-58.413494</td>\n",
       "      <td>340000.0</td>\n",
       "      <td>130.0</td>\n",
       "      <td>120.000000</td>\n",
       "      <td>2615.384615</td>\n",
       "      <td>4.0</td>\n",
       "      <td>https://www.properati.com.ar/1dzv6_venta_depar...</td>\n",
       "      <td>PALERMO</td>\n",
       "      <td>0.0</td>\n",
       "      <td>1.0</td>\n",
       "      <td>0.0</td>\n",
       "      <td>0.0</td>\n",
       "      <td>1.0</td>\n",
       "      <td>0.0</td>\n",
       "    </tr>\n",
       "    <tr>\n",
       "      <td>2</td>\n",
       "      <td>2017-08-29</td>\n",
       "      <td>apartment</td>\n",
       "      <td>Palermo</td>\n",
       "      <td>|Argentina|Capital Federal|Palermo|</td>\n",
       "      <td>-34.577033</td>\n",
       "      <td>-58.423368</td>\n",
       "      <td>222000.0</td>\n",
       "      <td>52.0</td>\n",
       "      <td>48.000000</td>\n",
       "      <td>4269.230769</td>\n",
       "      <td>1.0</td>\n",
       "      <td>https://www.properati.com.ar/1e05k_venta_depar...</td>\n",
       "      <td>PALERMO</td>\n",
       "      <td>0.0</td>\n",
       "      <td>1.0</td>\n",
       "      <td>0.0</td>\n",
       "      <td>0.0</td>\n",
       "      <td>1.0</td>\n",
       "      <td>0.0</td>\n",
       "    </tr>\n",
       "    <tr>\n",
       "      <td>3</td>\n",
       "      <td>2017-08-29</td>\n",
       "      <td>apartment</td>\n",
       "      <td>Palermo</td>\n",
       "      <td>|Argentina|Capital Federal|Palermo|</td>\n",
       "      <td>-34.595014</td>\n",
       "      <td>-58.427392</td>\n",
       "      <td>180000.0</td>\n",
       "      <td>70.0</td>\n",
       "      <td>70.000000</td>\n",
       "      <td>2571.428571</td>\n",
       "      <td>3.0</td>\n",
       "      <td>https://www.properati.com.ar/1e0mq_venta_depar...</td>\n",
       "      <td>PALERMO</td>\n",
       "      <td>0.0</td>\n",
       "      <td>1.0</td>\n",
       "      <td>0.0</td>\n",
       "      <td>0.0</td>\n",
       "      <td>1.0</td>\n",
       "      <td>0.0</td>\n",
       "    </tr>\n",
       "    <tr>\n",
       "      <td>4</td>\n",
       "      <td>2017-08-30</td>\n",
       "      <td>house</td>\n",
       "      <td>Palermo Hollywood</td>\n",
       "      <td>|Argentina|Capital Federal|Palermo|Palermo Hol...</td>\n",
       "      <td>-34.579354</td>\n",
       "      <td>-58.436449</td>\n",
       "      <td>1200000.0</td>\n",
       "      <td>532.0</td>\n",
       "      <td>334.000000</td>\n",
       "      <td>2255.639098</td>\n",
       "      <td>6.0</td>\n",
       "      <td>https://www.properati.com.ar/1e1ve_venta_casa_...</td>\n",
       "      <td>PALERMO</td>\n",
       "      <td>0.0</td>\n",
       "      <td>0.0</td>\n",
       "      <td>1.0</td>\n",
       "      <td>0.0</td>\n",
       "      <td>0.0</td>\n",
       "      <td>1.0</td>\n",
       "    </tr>\n",
       "    <tr>\n",
       "      <td>5</td>\n",
       "      <td>2017-08-30</td>\n",
       "      <td>house</td>\n",
       "      <td>Palermo</td>\n",
       "      <td>|Argentina|Capital Federal|Palermo|</td>\n",
       "      <td>-34.579354</td>\n",
       "      <td>-58.436449</td>\n",
       "      <td>1200000.0</td>\n",
       "      <td>532.0</td>\n",
       "      <td>334.000000</td>\n",
       "      <td>2255.639098</td>\n",
       "      <td>6.0</td>\n",
       "      <td>https://www.properati.com.ar/1e1vf_venta_casa_...</td>\n",
       "      <td>PALERMO</td>\n",
       "      <td>0.0</td>\n",
       "      <td>0.0</td>\n",
       "      <td>1.0</td>\n",
       "      <td>0.0</td>\n",
       "      <td>0.0</td>\n",
       "      <td>1.0</td>\n",
       "    </tr>\n",
       "    <tr>\n",
       "      <td>6</td>\n",
       "      <td>2017-08-30</td>\n",
       "      <td>apartment</td>\n",
       "      <td>Palermo Hollywood</td>\n",
       "      <td>|Argentina|Capital Federal|Palermo|Palermo Hol...</td>\n",
       "      <td>-34.580928</td>\n",
       "      <td>-58.440432</td>\n",
       "      <td>270000.0</td>\n",
       "      <td>67.0</td>\n",
       "      <td>64.000000</td>\n",
       "      <td>4029.850746</td>\n",
       "      <td>3.0</td>\n",
       "      <td>https://www.properati.com.ar/1e1x0_venta_depar...</td>\n",
       "      <td>PALERMO</td>\n",
       "      <td>0.0</td>\n",
       "      <td>1.0</td>\n",
       "      <td>0.0</td>\n",
       "      <td>0.0</td>\n",
       "      <td>1.0</td>\n",
       "      <td>0.0</td>\n",
       "    </tr>\n",
       "    <tr>\n",
       "      <td>7</td>\n",
       "      <td>2017-08-30</td>\n",
       "      <td>PH</td>\n",
       "      <td>Palermo Soho</td>\n",
       "      <td>|Argentina|Capital Federal|Palermo|Palermo Soho|</td>\n",
       "      <td>-34.589776</td>\n",
       "      <td>-58.428558</td>\n",
       "      <td>219000.0</td>\n",
       "      <td>72.0</td>\n",
       "      <td>93.820467</td>\n",
       "      <td>3041.666667</td>\n",
       "      <td>3.0</td>\n",
       "      <td>https://www.properati.com.ar/1e1xj_venta_ph_pa...</td>\n",
       "      <td>PALERMO</td>\n",
       "      <td>1.0</td>\n",
       "      <td>0.0</td>\n",
       "      <td>0.0</td>\n",
       "      <td>1.0</td>\n",
       "      <td>0.0</td>\n",
       "      <td>0.0</td>\n",
       "    </tr>\n",
       "  </tbody>\n",
       "</table>\n",
       "</div>"
      ],
      "text/plain": [
       "  created_on property_type         place_name  \\\n",
       "1 2017-08-29     apartment            Palermo   \n",
       "2 2017-08-29     apartment            Palermo   \n",
       "3 2017-08-29     apartment            Palermo   \n",
       "4 2017-08-30         house  Palermo Hollywood   \n",
       "5 2017-08-30         house            Palermo   \n",
       "6 2017-08-30     apartment  Palermo Hollywood   \n",
       "7 2017-08-30            PH       Palermo Soho   \n",
       "\n",
       "                             place_with_parent_names        lat        lon  \\\n",
       "1                |Argentina|Capital Federal|Palermo| -34.588912 -58.413494   \n",
       "2                |Argentina|Capital Federal|Palermo| -34.577033 -58.423368   \n",
       "3                |Argentina|Capital Federal|Palermo| -34.595014 -58.427392   \n",
       "4  |Argentina|Capital Federal|Palermo|Palermo Hol... -34.579354 -58.436449   \n",
       "5                |Argentina|Capital Federal|Palermo| -34.579354 -58.436449   \n",
       "6  |Argentina|Capital Federal|Palermo|Palermo Hol... -34.580928 -58.440432   \n",
       "7   |Argentina|Capital Federal|Palermo|Palermo Soho| -34.589776 -58.428558   \n",
       "\n",
       "   price_aprox_usd  surface_total_in_m2  surface_covered_in_m2  \\\n",
       "1         340000.0                130.0             120.000000   \n",
       "2         222000.0                 52.0              48.000000   \n",
       "3         180000.0                 70.0              70.000000   \n",
       "4        1200000.0                532.0             334.000000   \n",
       "5        1200000.0                532.0             334.000000   \n",
       "6         270000.0                 67.0              64.000000   \n",
       "7         219000.0                 72.0              93.820467   \n",
       "\n",
       "   price_usd_per_m2  rooms                                      properati_url  \\\n",
       "1       2615.384615    4.0  https://www.properati.com.ar/1dzv6_venta_depar...   \n",
       "2       4269.230769    1.0  https://www.properati.com.ar/1e05k_venta_depar...   \n",
       "3       2571.428571    3.0  https://www.properati.com.ar/1e0mq_venta_depar...   \n",
       "4       2255.639098    6.0  https://www.properati.com.ar/1e1ve_venta_casa_...   \n",
       "5       2255.639098    6.0  https://www.properati.com.ar/1e1vf_venta_casa_...   \n",
       "6       4029.850746    3.0  https://www.properati.com.ar/1e1x0_venta_depar...   \n",
       "7       3041.666667    3.0  https://www.properati.com.ar/1e1xj_venta_ph_pa...   \n",
       "\n",
       "    barrio    0    1    2    0    1    2  \n",
       "1  PALERMO  0.0  1.0  0.0  0.0  1.0  0.0  \n",
       "2  PALERMO  0.0  1.0  0.0  0.0  1.0  0.0  \n",
       "3  PALERMO  0.0  1.0  0.0  0.0  1.0  0.0  \n",
       "4  PALERMO  0.0  0.0  1.0  0.0  0.0  1.0  \n",
       "5  PALERMO  0.0  0.0  1.0  0.0  0.0  1.0  \n",
       "6  PALERMO  0.0  1.0  0.0  0.0  1.0  0.0  \n",
       "7  PALERMO  1.0  0.0  0.0  1.0  0.0  0.0  "
      ]
     },
     "execution_count": 42,
     "metadata": {},
     "output_type": "execute_result"
    }
   ],
   "source": [
    "categoricals_df = categoricals_df.set_index(df.index)\n",
    "df = pd.concat([df, categoricals_df], axis=1)\n",
    "df.head(7)"
   ]
  },
  {
   "cell_type": "markdown",
   "metadata": {},
   "source": [
    "### Variables calculadas"
   ]
  },
  {
   "cell_type": "markdown",
   "metadata": {},
   "source": [
    "__Calcular el precio por metro cuadrado (precio/superficie total). Llamar a este atributo `price_m2`.__\n",
    "\n",
    "Hay que tener cuidado en esta parte respecto de dividir por cero. Para ello, armemos una función de división que contemple eso.\n",
    "\n",
    "El hecho de crear una columna nueva y no imputar los faltantes es simplemente una decisión. Cuando veamos modelos predictivos, vamos a poder cuantificar el costo de las decisiones que tomemos en términos de performance del modelo."
   ]
  },
  {
   "cell_type": "code",
   "execution_count": 43,
   "metadata": {},
   "outputs": [],
   "source": [
    "def custom_division(x, y):\n",
    "    if y > 0:\n",
    "        res = x / y\n",
    "    else:\n",
    "        res = 0\n",
    "    return res\n",
    "\n",
    "df['price_m2'] = df.apply(lambda x: custom_division(x['price_aprox_usd'], x['surface_total_in_m2']), axis = 1)\n",
    "df.drop(['price_usd_per_m2'], axis=1, inplace=True)\n"
   ]
  },
  {
   "cell_type": "code",
   "execution_count": 44,
   "metadata": {},
   "outputs": [
    {
     "data": {
      "text/html": [
       "<div>\n",
       "<style scoped>\n",
       "    .dataframe tbody tr th:only-of-type {\n",
       "        vertical-align: middle;\n",
       "    }\n",
       "\n",
       "    .dataframe tbody tr th {\n",
       "        vertical-align: top;\n",
       "    }\n",
       "\n",
       "    .dataframe thead th {\n",
       "        text-align: right;\n",
       "    }\n",
       "</style>\n",
       "<table border=\"1\" class=\"dataframe\">\n",
       "  <thead>\n",
       "    <tr style=\"text-align: right;\">\n",
       "      <th></th>\n",
       "      <th>created_on</th>\n",
       "      <th>property_type</th>\n",
       "      <th>place_name</th>\n",
       "      <th>place_with_parent_names</th>\n",
       "      <th>lat</th>\n",
       "      <th>lon</th>\n",
       "      <th>price_aprox_usd</th>\n",
       "      <th>surface_total_in_m2</th>\n",
       "      <th>surface_covered_in_m2</th>\n",
       "      <th>rooms</th>\n",
       "      <th>properati_url</th>\n",
       "      <th>barrio</th>\n",
       "      <th>0</th>\n",
       "      <th>1</th>\n",
       "      <th>2</th>\n",
       "      <th>0</th>\n",
       "      <th>1</th>\n",
       "      <th>2</th>\n",
       "      <th>price_m2</th>\n",
       "    </tr>\n",
       "  </thead>\n",
       "  <tbody>\n",
       "    <tr>\n",
       "      <td>1</td>\n",
       "      <td>2017-08-29</td>\n",
       "      <td>apartment</td>\n",
       "      <td>Palermo</td>\n",
       "      <td>|Argentina|Capital Federal|Palermo|</td>\n",
       "      <td>-34.588912</td>\n",
       "      <td>-58.413494</td>\n",
       "      <td>340000.0</td>\n",
       "      <td>130.0</td>\n",
       "      <td>120.0</td>\n",
       "      <td>4.0</td>\n",
       "      <td>https://www.properati.com.ar/1dzv6_venta_depar...</td>\n",
       "      <td>PALERMO</td>\n",
       "      <td>0.0</td>\n",
       "      <td>1.0</td>\n",
       "      <td>0.0</td>\n",
       "      <td>0.0</td>\n",
       "      <td>1.0</td>\n",
       "      <td>0.0</td>\n",
       "      <td>2615.384615</td>\n",
       "    </tr>\n",
       "    <tr>\n",
       "      <td>2</td>\n",
       "      <td>2017-08-29</td>\n",
       "      <td>apartment</td>\n",
       "      <td>Palermo</td>\n",
       "      <td>|Argentina|Capital Federal|Palermo|</td>\n",
       "      <td>-34.577033</td>\n",
       "      <td>-58.423368</td>\n",
       "      <td>222000.0</td>\n",
       "      <td>52.0</td>\n",
       "      <td>48.0</td>\n",
       "      <td>1.0</td>\n",
       "      <td>https://www.properati.com.ar/1e05k_venta_depar...</td>\n",
       "      <td>PALERMO</td>\n",
       "      <td>0.0</td>\n",
       "      <td>1.0</td>\n",
       "      <td>0.0</td>\n",
       "      <td>0.0</td>\n",
       "      <td>1.0</td>\n",
       "      <td>0.0</td>\n",
       "      <td>4269.230769</td>\n",
       "    </tr>\n",
       "    <tr>\n",
       "      <td>3</td>\n",
       "      <td>2017-08-29</td>\n",
       "      <td>apartment</td>\n",
       "      <td>Palermo</td>\n",
       "      <td>|Argentina|Capital Federal|Palermo|</td>\n",
       "      <td>-34.595014</td>\n",
       "      <td>-58.427392</td>\n",
       "      <td>180000.0</td>\n",
       "      <td>70.0</td>\n",
       "      <td>70.0</td>\n",
       "      <td>3.0</td>\n",
       "      <td>https://www.properati.com.ar/1e0mq_venta_depar...</td>\n",
       "      <td>PALERMO</td>\n",
       "      <td>0.0</td>\n",
       "      <td>1.0</td>\n",
       "      <td>0.0</td>\n",
       "      <td>0.0</td>\n",
       "      <td>1.0</td>\n",
       "      <td>0.0</td>\n",
       "      <td>2571.428571</td>\n",
       "    </tr>\n",
       "    <tr>\n",
       "      <td>4</td>\n",
       "      <td>2017-08-30</td>\n",
       "      <td>house</td>\n",
       "      <td>Palermo Hollywood</td>\n",
       "      <td>|Argentina|Capital Federal|Palermo|Palermo Hol...</td>\n",
       "      <td>-34.579354</td>\n",
       "      <td>-58.436449</td>\n",
       "      <td>1200000.0</td>\n",
       "      <td>532.0</td>\n",
       "      <td>334.0</td>\n",
       "      <td>6.0</td>\n",
       "      <td>https://www.properati.com.ar/1e1ve_venta_casa_...</td>\n",
       "      <td>PALERMO</td>\n",
       "      <td>0.0</td>\n",
       "      <td>0.0</td>\n",
       "      <td>1.0</td>\n",
       "      <td>0.0</td>\n",
       "      <td>0.0</td>\n",
       "      <td>1.0</td>\n",
       "      <td>2255.639098</td>\n",
       "    </tr>\n",
       "    <tr>\n",
       "      <td>5</td>\n",
       "      <td>2017-08-30</td>\n",
       "      <td>house</td>\n",
       "      <td>Palermo</td>\n",
       "      <td>|Argentina|Capital Federal|Palermo|</td>\n",
       "      <td>-34.579354</td>\n",
       "      <td>-58.436449</td>\n",
       "      <td>1200000.0</td>\n",
       "      <td>532.0</td>\n",
       "      <td>334.0</td>\n",
       "      <td>6.0</td>\n",
       "      <td>https://www.properati.com.ar/1e1vf_venta_casa_...</td>\n",
       "      <td>PALERMO</td>\n",
       "      <td>0.0</td>\n",
       "      <td>0.0</td>\n",
       "      <td>1.0</td>\n",
       "      <td>0.0</td>\n",
       "      <td>0.0</td>\n",
       "      <td>1.0</td>\n",
       "      <td>2255.639098</td>\n",
       "    </tr>\n",
       "  </tbody>\n",
       "</table>\n",
       "</div>"
      ],
      "text/plain": [
       "  created_on property_type         place_name  \\\n",
       "1 2017-08-29     apartment            Palermo   \n",
       "2 2017-08-29     apartment            Palermo   \n",
       "3 2017-08-29     apartment            Palermo   \n",
       "4 2017-08-30         house  Palermo Hollywood   \n",
       "5 2017-08-30         house            Palermo   \n",
       "\n",
       "                             place_with_parent_names        lat        lon  \\\n",
       "1                |Argentina|Capital Federal|Palermo| -34.588912 -58.413494   \n",
       "2                |Argentina|Capital Federal|Palermo| -34.577033 -58.423368   \n",
       "3                |Argentina|Capital Federal|Palermo| -34.595014 -58.427392   \n",
       "4  |Argentina|Capital Federal|Palermo|Palermo Hol... -34.579354 -58.436449   \n",
       "5                |Argentina|Capital Federal|Palermo| -34.579354 -58.436449   \n",
       "\n",
       "   price_aprox_usd  surface_total_in_m2  surface_covered_in_m2  rooms  \\\n",
       "1         340000.0                130.0                  120.0    4.0   \n",
       "2         222000.0                 52.0                   48.0    1.0   \n",
       "3         180000.0                 70.0                   70.0    3.0   \n",
       "4        1200000.0                532.0                  334.0    6.0   \n",
       "5        1200000.0                532.0                  334.0    6.0   \n",
       "\n",
       "                                       properati_url   barrio    0    1    2  \\\n",
       "1  https://www.properati.com.ar/1dzv6_venta_depar...  PALERMO  0.0  1.0  0.0   \n",
       "2  https://www.properati.com.ar/1e05k_venta_depar...  PALERMO  0.0  1.0  0.0   \n",
       "3  https://www.properati.com.ar/1e0mq_venta_depar...  PALERMO  0.0  1.0  0.0   \n",
       "4  https://www.properati.com.ar/1e1ve_venta_casa_...  PALERMO  0.0  0.0  1.0   \n",
       "5  https://www.properati.com.ar/1e1vf_venta_casa_...  PALERMO  0.0  0.0  1.0   \n",
       "\n",
       "     0    1    2     price_m2  \n",
       "1  0.0  1.0  0.0  2615.384615  \n",
       "2  0.0  1.0  0.0  4269.230769  \n",
       "3  0.0  1.0  0.0  2571.428571  \n",
       "4  0.0  0.0  1.0  2255.639098  \n",
       "5  0.0  0.0  1.0  2255.639098  "
      ]
     },
     "execution_count": 44,
     "metadata": {},
     "output_type": "execute_result"
    }
   ],
   "source": [
    "df.head()"
   ]
  },
  {
   "cell_type": "markdown",
   "metadata": {},
   "source": [
    "__Verificar que ya no quedan atributos con valores faltantes__"
   ]
  },
  {
   "cell_type": "code",
   "execution_count": 45,
   "metadata": {},
   "outputs": [
    {
     "data": {
      "text/html": [
       "<div>\n",
       "<style scoped>\n",
       "    .dataframe tbody tr th:only-of-type {\n",
       "        vertical-align: middle;\n",
       "    }\n",
       "\n",
       "    .dataframe tbody tr th {\n",
       "        vertical-align: top;\n",
       "    }\n",
       "\n",
       "    .dataframe thead th {\n",
       "        text-align: right;\n",
       "    }\n",
       "</style>\n",
       "<table border=\"1\" class=\"dataframe\">\n",
       "  <thead>\n",
       "    <tr style=\"text-align: right;\">\n",
       "      <th></th>\n",
       "      <th>Porcentaje nulos</th>\n",
       "    </tr>\n",
       "  </thead>\n",
       "  <tbody>\n",
       "  </tbody>\n",
       "</table>\n",
       "</div>"
      ],
      "text/plain": [
       "Empty DataFrame\n",
       "Columns: [Porcentaje nulos]\n",
       "Index: []"
      ]
     },
     "execution_count": 45,
     "metadata": {},
     "output_type": "execute_result"
    }
   ],
   "source": [
    "# Creamos un dataset con los porcentajes de nulos\n",
    "df_faltantes = pd.DataFrame(df.isnull().sum() / df.shape[0], columns=['Porcentaje nulos'])\n",
    "# Solo mostramos los que tengan valores nulos. Si el porcentaje es 0 no se muestra\n",
    "df_faltantes.loc[~(df_faltantes==0).all(axis=1)]"
   ]
  },
  {
   "cell_type": "code",
   "execution_count": 46,
   "metadata": {},
   "outputs": [
    {
     "name": "stdout",
     "output_type": "stream",
     "text": [
      "El dataset final luego del procesamiento tiene 12288 observaciones\n"
     ]
    }
   ],
   "source": [
    "print(\"El dataset final luego del procesamiento tiene {} observaciones\".format(df.shape[0]))"
   ]
  },
  {
   "cell_type": "markdown",
   "metadata": {},
   "source": [
    "De este modo, hemos limpiado valores extremos e imputado valores nulos. El costo de esto fue la pérdida de 685 observaciones, 5% de la cantidad original de filas."
   ]
  }
 ],
 "metadata": {
  "kernelspec": {
   "display_name": "Python 3",
   "language": "python",
   "name": "python3"
  },
  "language_info": {
   "codemirror_mode": {
    "name": "ipython",
    "version": 3
   },
   "file_extension": ".py",
   "mimetype": "text/x-python",
   "name": "python",
   "nbconvert_exporter": "python",
   "pygments_lexer": "ipython3",
   "version": "3.7.4"
  },
  "varInspector": {
   "cols": {
    "lenName": 16,
    "lenType": 16,
    "lenVar": 40
   },
   "kernels_config": {
    "python": {
     "delete_cmd_postfix": "",
     "delete_cmd_prefix": "del ",
     "library": "var_list.py",
     "varRefreshCmd": "print(var_dic_list())"
    },
    "r": {
     "delete_cmd_postfix": ") ",
     "delete_cmd_prefix": "rm(",
     "library": "var_list.r",
     "varRefreshCmd": "cat(var_dic_list()) "
    }
   },
   "types_to_exclude": [
    "module",
    "function",
    "builtin_function_or_method",
    "instance",
    "_Feature"
   ],
   "window_display": true
  }
 },
 "nbformat": 4,
 "nbformat_minor": 2
}
